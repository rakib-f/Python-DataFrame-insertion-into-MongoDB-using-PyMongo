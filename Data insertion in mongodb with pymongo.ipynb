{
 "cells": [
  {
   "cell_type": "code",
   "execution_count": 1,
   "id": "7d1a44ca-3b1e-43c6-86a3-5e73e416734a",
   "metadata": {},
   "outputs": [
    {
     "name": "stdout",
     "output_type": "stream",
     "text": [
      "Collecting pymongo\n",
      "  Downloading pymongo-4.8.0-cp312-cp312-win_amd64.whl.metadata (22 kB)\n",
      "Collecting dnspython<3.0.0,>=1.16.0 (from pymongo)\n",
      "  Downloading dnspython-2.6.1-py3-none-any.whl.metadata (5.8 kB)\n",
      "Downloading pymongo-4.8.0-cp312-cp312-win_amd64.whl (680 kB)\n",
      "   ---------------------------------------- 0.0/680.4 kB ? eta -:--:--\n",
      "   - -------------------------------------- 30.7/680.4 kB ? eta -:--:--\n",
      "   ------- -------------------------------- 122.9/680.4 kB 1.0 MB/s eta 0:00:01\n",
      "   ----------- ---------------------------- 194.6/680.4 kB 1.2 MB/s eta 0:00:01\n",
      "   ---------------- ----------------------- 286.7/680.4 kB 1.5 MB/s eta 0:00:01\n",
      "   ------------------- -------------------- 337.9/680.4 kB 1.4 MB/s eta 0:00:01\n",
      "   ------------------------ --------------- 409.6/680.4 kB 1.3 MB/s eta 0:00:01\n",
      "   -------------------------- ------------- 450.6/680.4 kB 1.3 MB/s eta 0:00:01\n",
      "   ----------------------------- ---------- 501.8/680.4 kB 1.2 MB/s eta 0:00:01\n",
      "   ---------------------------------------  675.8/680.4 kB 1.5 MB/s eta 0:00:01\n",
      "   ---------------------------------------  675.8/680.4 kB 1.5 MB/s eta 0:00:01\n",
      "   ---------------------------------------  675.8/680.4 kB 1.5 MB/s eta 0:00:01\n",
      "   ---------------------------------------  675.8/680.4 kB 1.5 MB/s eta 0:00:01\n",
      "   ---------------------------------------  675.8/680.4 kB 1.5 MB/s eta 0:00:01\n",
      "   ---------------------------------------  675.8/680.4 kB 1.5 MB/s eta 0:00:01\n",
      "   ---------------------------------------  675.8/680.4 kB 1.5 MB/s eta 0:00:01\n",
      "   ---------------------------------------  675.8/680.4 kB 1.5 MB/s eta 0:00:01\n",
      "   ---------------------------------------  675.8/680.4 kB 1.5 MB/s eta 0:00:01\n",
      "   ---------------------------------------  675.8/680.4 kB 1.5 MB/s eta 0:00:01\n",
      "   -------------------------------------- 680.4/680.4 kB 752.1 kB/s eta 0:00:00\n",
      "Downloading dnspython-2.6.1-py3-none-any.whl (307 kB)\n",
      "   ---------------------------------------- 0.0/307.7 kB ? eta -:--:--\n",
      "   --------------- ------------------------ 122.9/307.7 kB 3.6 MB/s eta 0:00:01\n",
      "   ---------------------------------------  307.2/307.7 kB 3.8 MB/s eta 0:00:01\n",
      "   ---------------------------------------  307.2/307.7 kB 3.8 MB/s eta 0:00:01\n",
      "   ---------------------------------------- 307.7/307.7 kB 1.9 MB/s eta 0:00:00\n",
      "Installing collected packages: dnspython, pymongo\n",
      "Successfully installed dnspython-2.6.1 pymongo-4.8.0\n"
     ]
    }
   ],
   "source": [
    "!pip install pymongo"
   ]
  },
  {
   "cell_type": "code",
   "execution_count": 2,
   "id": "4385416e-fd07-4e8f-8df4-3f089f69a400",
   "metadata": {},
   "outputs": [],
   "source": [
    "from pymongo import MongoClient\n",
    "import pandas as pd"
   ]
  },
  {
   "cell_type": "code",
   "execution_count": 4,
   "id": "d815a299-8285-4a31-89cc-3e13df7ca25a",
   "metadata": {},
   "outputs": [
    {
     "name": "stderr",
     "output_type": "stream",
     "text": [
      "<>:1: SyntaxWarning: invalid escape sequence '\\d'\n",
      "<>:1: SyntaxWarning: invalid escape sequence '\\d'\n",
      "C:\\Users\\rfare\\AppData\\Local\\Temp\\ipykernel_8208\\838094266.py:1: SyntaxWarning: invalid escape sequence '\\d'\n",
      "  data = pd.read_csv(\"E:\\develop\\Web scraping\\List_of_largest_companies_by_revenue.csv\")\n"
     ]
    },
    {
     "data": {
      "text/html": [
       "<div>\n",
       "<style scoped>\n",
       "    .dataframe tbody tr th:only-of-type {\n",
       "        vertical-align: middle;\n",
       "    }\n",
       "\n",
       "    .dataframe tbody tr th {\n",
       "        vertical-align: top;\n",
       "    }\n",
       "\n",
       "    .dataframe thead th {\n",
       "        text-align: right;\n",
       "    }\n",
       "</style>\n",
       "<table border=\"1\" class=\"dataframe\">\n",
       "  <thead>\n",
       "    <tr style=\"text-align: right;\">\n",
       "      <th></th>\n",
       "      <th>Name</th>\n",
       "      <th>Industry</th>\n",
       "      <th>Revenue</th>\n",
       "      <th>Profit</th>\n",
       "      <th>Employees</th>\n",
       "      <th>Headquarter</th>\n",
       "    </tr>\n",
       "  </thead>\n",
       "  <tbody>\n",
       "    <tr>\n",
       "      <th>0</th>\n",
       "      <td>Walmart</td>\n",
       "      <td>Retail</td>\n",
       "      <td>$648,125</td>\n",
       "      <td>$15,511</td>\n",
       "      <td>2,100,000</td>\n",
       "      <td>United States</td>\n",
       "    </tr>\n",
       "    <tr>\n",
       "      <th>1</th>\n",
       "      <td>Amazon</td>\n",
       "      <td>Retail</td>\n",
       "      <td>$574,785</td>\n",
       "      <td>$30,425</td>\n",
       "      <td>1,525,000</td>\n",
       "      <td>United States</td>\n",
       "    </tr>\n",
       "    <tr>\n",
       "      <th>2</th>\n",
       "      <td>State Grid Corporation of China</td>\n",
       "      <td>Electricity</td>\n",
       "      <td>$545,948</td>\n",
       "      <td>$9,204</td>\n",
       "      <td>1,361,423</td>\n",
       "      <td>China</td>\n",
       "    </tr>\n",
       "    <tr>\n",
       "      <th>3</th>\n",
       "      <td>Saudi Aramco</td>\n",
       "      <td>Oil and gas</td>\n",
       "      <td>$494,890</td>\n",
       "      <td>$129,699</td>\n",
       "      <td>73,311</td>\n",
       "      <td>Saudi Arabia</td>\n",
       "    </tr>\n",
       "    <tr>\n",
       "      <th>4</th>\n",
       "      <td>China Petrochemical Corporation</td>\n",
       "      <td>Oil and gas</td>\n",
       "      <td>$429,700</td>\n",
       "      <td>$9,393</td>\n",
       "      <td>513,434</td>\n",
       "      <td>China</td>\n",
       "    </tr>\n",
       "  </tbody>\n",
       "</table>\n",
       "</div>"
      ],
      "text/plain": [
       "                              Name     Industry    Revenue     Profit  \\\n",
       "0                          Walmart       Retail  $648,125    $15,511    \n",
       "1                           Amazon       Retail  $574,785    $30,425    \n",
       "2  State Grid Corporation of China  Electricity  $545,948     $9,204    \n",
       "3                     Saudi Aramco  Oil and gas  $494,890   $129,699    \n",
       "4  China Petrochemical Corporation  Oil and gas  $429,700     $9,393    \n",
       "\n",
       "   Employees    Headquarter  \n",
       "0  2,100,000  United States  \n",
       "1  1,525,000  United States  \n",
       "2  1,361,423          China  \n",
       "3     73,311   Saudi Arabia  \n",
       "4    513,434          China  "
      ]
     },
     "execution_count": 4,
     "metadata": {},
     "output_type": "execute_result"
    }
   ],
   "source": [
    "data = pd.read_csv(\"E:\\develop\\Web scraping\\List_of_largest_companies_by_revenue.csv\")\n",
    "data.head()"
   ]
  },
  {
   "cell_type": "code",
   "execution_count": 5,
   "id": "a9534737-8e82-43fe-9518-6b4fefb25c61",
   "metadata": {},
   "outputs": [],
   "source": [
    "client = MongoClient(\"mongodb://127.0.0.1:27017/\")"
   ]
  },
  {
   "cell_type": "code",
   "execution_count": 6,
   "id": "5abc7441-68fc-4521-a806-12313867b286",
   "metadata": {},
   "outputs": [],
   "source": [
    "db = client['Companies']"
   ]
  },
  {
   "cell_type": "code",
   "execution_count": 7,
   "id": "760854c2-e99b-41dd-9d08-62f2887f7f64",
   "metadata": {},
   "outputs": [],
   "source": [
    "collection = db['collectionCompanies']"
   ]
  },
  {
   "cell_type": "code",
   "execution_count": 8,
   "id": "2c7b81cd-c756-4f25-84d0-13e9261106d8",
   "metadata": {},
   "outputs": [
    {
     "name": "stdout",
     "output_type": "stream",
     "text": [
      "Success\n"
     ]
    }
   ],
   "source": [
    "collection.insert_many(data.to_dict('records'))\n",
    "print('Success')"
   ]
  },
  {
   "cell_type": "code",
   "execution_count": null,
   "id": "05d59f03-bc2e-4fbd-9a30-8acf125d3ce1",
   "metadata": {},
   "outputs": [],
   "source": []
  }
 ],
 "metadata": {
  "kernelspec": {
   "display_name": "Python 3 (ipykernel)",
   "language": "python",
   "name": "python3"
  },
  "language_info": {
   "codemirror_mode": {
    "name": "ipython",
    "version": 3
   },
   "file_extension": ".py",
   "mimetype": "text/x-python",
   "name": "python",
   "nbconvert_exporter": "python",
   "pygments_lexer": "ipython3",
   "version": "3.12.3"
  }
 },
 "nbformat": 4,
 "nbformat_minor": 5
}
